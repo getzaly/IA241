{
 "cells": [
  {
   "cell_type": "markdown",
   "id": "4d707224",
   "metadata": {},
   "source": [
    "# Analysis of COVID-19 Data in Australia"
   ]
  },
  {
   "cell_type": "markdown",
   "id": "47588297",
   "metadata": {},
   "source": [
    "## Data Source"
   ]
  },
  {
   "cell_type": "markdown",
   "id": "da0fef39",
   "metadata": {},
   "source": [
    "The data used in this analysis was collected from the [European Centre for Disease Prevention and Control](https://www.ecdc.europa.eu/en/publications-data/download-todays-data-geographic-distribution-covid-19-cases-worldwide).\n",
    "\n",
    "## Background on COVID-19\n",
    "\n",
    "\"COVID-19 is caused by a coronavirus called SARS-CoV-2. Older adults and people who have severe underlying medical conditions like heart or lung disease or diabetes seem to be at higher risk for developing more serious complications from COVID-19 illness.\" [(Center for Disease Control and Prevention)](https://www.cdc.gov/coronavirus/2019-ncov/prevent-getting-sick/how-covid-spreads.html)."
   ]
  },
  {
   "cell_type": "code",
   "execution_count": 4,
   "id": "41cef2e3",
   "metadata": {},
   "outputs": [],
   "source": [
    "%matplotlib inline\n",
    "import pandas"
   ]
  },
  {
   "cell_type": "markdown",
   "id": "06861c20",
   "metadata": {},
   "source": [
    "## COVID-19 Data collected in Australia"
   ]
  },
  {
   "cell_type": "code",
   "execution_count": 5,
   "id": "866b8a24",
   "metadata": {
    "scrolled": true
   },
   "outputs": [
    {
     "data": {
      "text/html": [
       "<div>\n",
       "<style scoped>\n",
       "    .dataframe tbody tr th:only-of-type {\n",
       "        vertical-align: middle;\n",
       "    }\n",
       "\n",
       "    .dataframe tbody tr th {\n",
       "        vertical-align: top;\n",
       "    }\n",
       "\n",
       "    .dataframe thead th {\n",
       "        text-align: right;\n",
       "    }\n",
       "</style>\n",
       "<table border=\"1\" class=\"dataframe\">\n",
       "  <thead>\n",
       "    <tr style=\"text-align: right;\">\n",
       "      <th></th>\n",
       "      <th>dateRep</th>\n",
       "      <th>day</th>\n",
       "      <th>month</th>\n",
       "      <th>year</th>\n",
       "      <th>cases</th>\n",
       "      <th>deaths</th>\n",
       "      <th>countriesAndTerritories</th>\n",
       "      <th>geoId</th>\n",
       "      <th>countryterritoryCode</th>\n",
       "      <th>popData2019</th>\n",
       "    </tr>\n",
       "  </thead>\n",
       "  <tbody>\n",
       "    <tr>\n",
       "      <th>0</th>\n",
       "      <td>2020-12-14</td>\n",
       "      <td>14</td>\n",
       "      <td>12</td>\n",
       "      <td>2020</td>\n",
       "      <td>6</td>\n",
       "      <td>0</td>\n",
       "      <td>Australia</td>\n",
       "      <td>AU</td>\n",
       "      <td>AUS</td>\n",
       "      <td>25203200</td>\n",
       "    </tr>\n",
       "    <tr>\n",
       "      <th>1</th>\n",
       "      <td>2020-12-13</td>\n",
       "      <td>13</td>\n",
       "      <td>12</td>\n",
       "      <td>2020</td>\n",
       "      <td>13</td>\n",
       "      <td>0</td>\n",
       "      <td>Australia</td>\n",
       "      <td>AU</td>\n",
       "      <td>AUS</td>\n",
       "      <td>25203200</td>\n",
       "    </tr>\n",
       "    <tr>\n",
       "      <th>2</th>\n",
       "      <td>2020-12-12</td>\n",
       "      <td>12</td>\n",
       "      <td>12</td>\n",
       "      <td>2020</td>\n",
       "      <td>12</td>\n",
       "      <td>0</td>\n",
       "      <td>Australia</td>\n",
       "      <td>AU</td>\n",
       "      <td>AUS</td>\n",
       "      <td>25203200</td>\n",
       "    </tr>\n",
       "    <tr>\n",
       "      <th>3</th>\n",
       "      <td>2020-12-11</td>\n",
       "      <td>11</td>\n",
       "      <td>12</td>\n",
       "      <td>2020</td>\n",
       "      <td>7</td>\n",
       "      <td>0</td>\n",
       "      <td>Australia</td>\n",
       "      <td>AU</td>\n",
       "      <td>AUS</td>\n",
       "      <td>25203200</td>\n",
       "    </tr>\n",
       "    <tr>\n",
       "      <th>4</th>\n",
       "      <td>2020-12-10</td>\n",
       "      <td>10</td>\n",
       "      <td>12</td>\n",
       "      <td>2020</td>\n",
       "      <td>6</td>\n",
       "      <td>0</td>\n",
       "      <td>Australia</td>\n",
       "      <td>AU</td>\n",
       "      <td>AUS</td>\n",
       "      <td>25203200</td>\n",
       "    </tr>\n",
       "    <tr>\n",
       "      <th>5</th>\n",
       "      <td>2020-12-09</td>\n",
       "      <td>9</td>\n",
       "      <td>12</td>\n",
       "      <td>2020</td>\n",
       "      <td>15</td>\n",
       "      <td>0</td>\n",
       "      <td>Australia</td>\n",
       "      <td>AU</td>\n",
       "      <td>AUS</td>\n",
       "      <td>25203200</td>\n",
       "    </tr>\n",
       "    <tr>\n",
       "      <th>6</th>\n",
       "      <td>2020-12-08</td>\n",
       "      <td>8</td>\n",
       "      <td>12</td>\n",
       "      <td>2020</td>\n",
       "      <td>7</td>\n",
       "      <td>0</td>\n",
       "      <td>Australia</td>\n",
       "      <td>AU</td>\n",
       "      <td>AUS</td>\n",
       "      <td>25203200</td>\n",
       "    </tr>\n",
       "    <tr>\n",
       "      <th>7</th>\n",
       "      <td>2020-12-07</td>\n",
       "      <td>7</td>\n",
       "      <td>12</td>\n",
       "      <td>2020</td>\n",
       "      <td>9</td>\n",
       "      <td>0</td>\n",
       "      <td>Australia</td>\n",
       "      <td>AU</td>\n",
       "      <td>AUS</td>\n",
       "      <td>25203200</td>\n",
       "    </tr>\n",
       "    <tr>\n",
       "      <th>8</th>\n",
       "      <td>2020-12-06</td>\n",
       "      <td>6</td>\n",
       "      <td>12</td>\n",
       "      <td>2020</td>\n",
       "      <td>7</td>\n",
       "      <td>0</td>\n",
       "      <td>Australia</td>\n",
       "      <td>AU</td>\n",
       "      <td>AUS</td>\n",
       "      <td>25203200</td>\n",
       "    </tr>\n",
       "    <tr>\n",
       "      <th>9</th>\n",
       "      <td>2020-12-05</td>\n",
       "      <td>5</td>\n",
       "      <td>12</td>\n",
       "      <td>2020</td>\n",
       "      <td>10</td>\n",
       "      <td>0</td>\n",
       "      <td>Australia</td>\n",
       "      <td>AU</td>\n",
       "      <td>AUS</td>\n",
       "      <td>25203200</td>\n",
       "    </tr>\n",
       "  </tbody>\n",
       "</table>\n",
       "</div>"
      ],
      "text/plain": [
       "     dateRep  day  month  year  cases  deaths countriesAndTerritories geoId  \\\n",
       "0 2020-12-14   14     12  2020      6       0               Australia    AU   \n",
       "1 2020-12-13   13     12  2020     13       0               Australia    AU   \n",
       "2 2020-12-12   12     12  2020     12       0               Australia    AU   \n",
       "3 2020-12-11   11     12  2020      7       0               Australia    AU   \n",
       "4 2020-12-10   10     12  2020      6       0               Australia    AU   \n",
       "5 2020-12-09    9     12  2020     15       0               Australia    AU   \n",
       "6 2020-12-08    8     12  2020      7       0               Australia    AU   \n",
       "7 2020-12-07    7     12  2020      9       0               Australia    AU   \n",
       "8 2020-12-06    6     12  2020      7       0               Australia    AU   \n",
       "9 2020-12-05    5     12  2020     10       0               Australia    AU   \n",
       "\n",
       "  countryterritoryCode  popData2019  \n",
       "0                  AUS     25203200  \n",
       "1                  AUS     25203200  \n",
       "2                  AUS     25203200  \n",
       "3                  AUS     25203200  \n",
       "4                  AUS     25203200  \n",
       "5                  AUS     25203200  \n",
       "6                  AUS     25203200  \n",
       "7                  AUS     25203200  \n",
       "8                  AUS     25203200  \n",
       "9                  AUS     25203200  "
      ]
     },
     "execution_count": 5,
     "metadata": {},
     "output_type": "execute_result"
    }
   ],
   "source": [
    "df = pandas.read_excel('s3://getz-ia241-2021spring/COVID-19 AUS DATA.xls')\n",
    "df[:10] #only the top 10 rows are being displayed below"
   ]
  },
  {
   "cell_type": "markdown",
   "id": "1f32a087",
   "metadata": {},
   "source": [
    "# Q1. What has the trend in number of confirmed cases looked like from January 2020 to December 2020?"
   ]
  },
  {
   "cell_type": "code",
   "execution_count": 6,
   "id": "5c3a0716",
   "metadata": {},
   "outputs": [
    {
     "data": {
      "text/plain": [
       "<AxesSubplot:xlabel='dateRep'>"
      ]
     },
     "execution_count": 6,
     "metadata": {},
     "output_type": "execute_result"
    },
    {
     "data": {
      "image/png": "[encoded data removed]",
      "text/plain": [
       "<Figure size 432x288 with 1 Axes>"
      ]
     },
     "metadata": {
      "needs_background": "light"
     },
     "output_type": "display_data"
    }
   ],
   "source": [
    "aus_case_by_date = df.groupby('dateRep').sum()['cases']\n",
    "aus_case_by_date.plot()"
   ]
  },
  {
   "cell_type": "markdown",
   "id": "ddd0e419",
   "metadata": {},
   "source": [
    "# A1. As of December 2020, Australia has less than 100 confirmed cases with the total nearing 0.\n",
    "\n",
    "This line graph portrays the number of recorded cases each day from 12/31/19 to 12/14/20. As one can see, Australia experienced two large peaks in cases reaching up to more than 700 cases but since August/September 2020, cases have been on the decline. Australia started experiencing a rise in cases in mid March 2020 and they increased exponentially and then decreased for the first time around April and declined until May. The second rise in cases began in July 2020 and was on the rise until August and then declined until October 2020 and has been steadily low since then. "
   ]
  },
  {
   "cell_type": "markdown",
   "id": "82ad79b3",
   "metadata": {},
   "source": [
    "# Q2. Which month recorded the highest number of deaths in Australia in 2020?"
   ]
  },
  {
   "cell_type": "code",
   "execution_count": 7,
   "id": "61a718f7",
   "metadata": {},
   "outputs": [
    {
     "data": {
      "text/plain": [
       "<AxesSubplot:xlabel='month'>"
      ]
     },
     "execution_count": 7,
     "metadata": {},
     "output_type": "execute_result"
    },
    {
     "data": {
      "image/png": "[encoded data removed]",
      "text/plain": [
       "<Figure size 432x288 with 1 Axes>"
      ]
     },
     "metadata": {
      "needs_background": "light"
     },
     "output_type": "display_data"
    }
   ],
   "source": [
    "sum_death_by_month = df.groupby('month').sum()['deaths']\n",
    "sum_death_by_month.nlargest(12).plot.bar()"
   ]
  },
  {
   "cell_type": "markdown",
   "id": "6a43a567",
   "metadata": {},
   "source": [
    "# A2. August had the most deaths in Australia in 2020.\n",
    "\n",
    "The bar graph shows the number of deaths in each month in Australia. The month with the most deaths was August followed by September then July. The month with the least number of deaths was November. In August there were over 400 deaths. The visual shows the stark decrease in deaths by the month and as one can tell, September saw only around 275 deaths and July and April, only around 50-75. "
   ]
  },
  {
   "cell_type": "markdown",
   "id": "e900e4f2",
   "metadata": {},
   "source": [
    "# Q3. Which month had the highest number of confirmed cases?"
   ]
  },
  {
   "cell_type": "code",
   "execution_count": 9,
   "id": "49f966b7",
   "metadata": {},
   "outputs": [
    {
     "data": {
      "text/plain": [
       "<AxesSubplot:xlabel='month'>"
      ]
     },
     "execution_count": 9,
     "metadata": {},
     "output_type": "execute_result"
    },
    {
     "data": {
      "image/png": "[encoded data removed]",
      "text/plain": [
       "<Figure size 432x288 with 1 Axes>"
      ]
     },
     "metadata": {
      "needs_background": "light"
     },
     "output_type": "display_data"
    }
   ],
   "source": [
    "sum_cases_by_date = df.groupby('month').sum()['cases']\n",
    "sum_cases_by_date.nlargest(12).plot.bar()"
   ]
  },
  {
   "cell_type": "markdown",
   "id": "ed4395a3",
   "metadata": {},
   "source": [
    "# A3. August had the highest number of confirmed cases."
   ]
  },
  {
   "cell_type": "markdown",
   "id": "65962a2b",
   "metadata": {},
   "source": [
    "August had the highest number of confirmed cases followed by July. In comparing the total number of confirmed cases and its relation to the number of deaths caused by COVID-19 it is interesting to realize that the most deaths occured in August and Deptember but the most cases were caught in July and August. This would make sense because the tests that came back positive for COVID-19, those patients that passed away from it either did in August that same month or September, a month later. The least amount of deaths occured in January and February when there were no deaths and in November and December there were very few patients that died from COVID-19 in Australia."
   ]
  },
  {
   "cell_type": "code",
   "execution_count": null,
   "id": "f30252bc",
   "metadata": {},
   "outputs": [],
   "source": []
  }
 ],
 "metadata": {
  "kernelspec": {
   "display_name": "conda_python3",
   "language": "python",
   "name": "conda_python3"
  },
  "language_info": {
   "codemirror_mode": {
    "name": "ipython",
    "version": 3
   },
   "file_extension": ".py",
   "mimetype": "text/x-python",
   "name": "python",
   "nbconvert_exporter": "python",
   "pygments_lexer": "ipython3",
   "version": "3.6.13"
  }
 },
 "nbformat": 4,
 "nbformat_minor": 5
}
